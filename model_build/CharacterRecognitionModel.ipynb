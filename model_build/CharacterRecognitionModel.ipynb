{
 "cells": [
  {
   "cell_type": "markdown",
   "id": "undefined-woman",
   "metadata": {},
   "source": [
    "# Character Recognition Model"
   ]
  },
  {
   "cell_type": "code",
   "execution_count": 1,
   "id": "exclusive-judge",
   "metadata": {},
   "outputs": [],
   "source": [
    "import tensorflow as tf"
   ]
  },
  {
   "cell_type": "code",
   "execution_count": 3,
   "id": "joined-charter",
   "metadata": {},
   "outputs": [],
   "source": [
    "import pandas as pd"
   ]
  },
  {
   "cell_type": "code",
   "execution_count": 2,
   "id": "floppy-sherman",
   "metadata": {},
   "outputs": [],
   "source": [
    "from tensorflow.keras import layers\n",
    "from tensorflow.keras.layers.experimental import preprocessing"
   ]
  },
  {
   "cell_type": "code",
   "execution_count": 4,
   "id": "every-leisure",
   "metadata": {},
   "outputs": [],
   "source": [
    "import tensorflowjs as tfjs"
   ]
  },
  {
   "cell_type": "markdown",
   "id": "plain-gospel",
   "metadata": {},
   "source": [
    "Load in Data"
   ]
  },
  {
   "cell_type": "code",
   "execution_count": 5,
   "id": "polish-lambda",
   "metadata": {},
   "outputs": [],
   "source": [
    "def df_processing(input_set):\n",
    "    features = input_set.copy()\n",
    "    labels = features.pop(features.columns[0])\n",
    "    \n",
    "    #one hot non 0 feature values to 1\n",
    "    #and make them floats\n",
    "    feature_col_names = list(features.columns.values)\n",
    "    features[feature_col_names] = features.where(features[feature_col_names] == 0, 1).astype('float32')\n",
    "    \n",
    "    output_tensor = tf.data.Dataset.from_tensor_slices((features, labels))\n",
    "    \n",
    "    return output_tensor"
   ]
  },
  {
   "cell_type": "code",
   "execution_count": 6,
   "id": "atmospheric-closer",
   "metadata": {},
   "outputs": [],
   "source": [
    "train_set = pd.read_csv('../Data/emnist-letters-train.csv')"
   ]
  },
  {
   "cell_type": "code",
   "execution_count": 7,
   "id": "certain-community",
   "metadata": {},
   "outputs": [],
   "source": [
    "train_tensor = df_processing(train_set)"
   ]
  },
  {
   "cell_type": "code",
   "execution_count": 8,
   "id": "foreign-camcorder",
   "metadata": {},
   "outputs": [
    {
     "name": "stdout",
     "output_type": "stream",
     "text": [
      "Features: [0. 0. 0. 0. 0. 0. 0. 0. 0. 0. 0. 0. 0. 0. 0. 0. 0. 0. 0. 0. 0. 0. 0. 0.\n",
      " 0. 0. 0. 0. 0. 0. 0. 0. 0. 0. 0. 0. 0. 0. 0. 0. 0. 0. 0. 0. 0. 0. 0. 0.\n",
      " 0. 0. 0. 0. 0. 0. 0. 0. 0. 0. 0. 0. 0. 0. 0. 0. 0. 0. 0. 0. 0. 1. 1. 1.\n",
      " 1. 1. 1. 1. 1. 1. 1. 0. 0. 0. 0. 0. 0. 0. 0. 0. 0. 0. 0. 0. 0. 0. 0. 0.\n",
      " 1. 1. 1. 1. 1. 1. 1. 1. 1. 1. 1. 0. 0. 0. 0. 0. 0. 0. 0. 0. 0. 0. 0. 0.\n",
      " 0. 1. 1. 1. 1. 1. 1. 1. 1. 1. 1. 1. 1. 1. 1. 1. 0. 0. 0. 0. 0. 0. 0. 0.\n",
      " 0. 0. 0. 0. 1. 1. 1. 1. 1. 1. 1. 1. 1. 1. 1. 1. 1. 1. 1. 1. 0. 0. 0. 0.\n",
      " 0. 0. 0. 0. 0. 0. 0. 1. 1. 1. 1. 1. 1. 1. 1. 1. 1. 1. 1. 1. 1. 1. 1. 1.\n",
      " 0. 0. 0. 0. 0. 0. 0. 0. 0. 1. 1. 1. 1. 1. 1. 1. 1. 1. 1. 1. 1. 1. 1. 1.\n",
      " 1. 1. 1. 1. 1. 0. 0. 0. 0. 0. 0. 0. 0. 1. 1. 1. 1. 1. 1. 1. 1. 1. 1. 1.\n",
      " 1. 1. 1. 1. 1. 1. 1. 1. 1. 0. 0. 0. 0. 0. 0. 0. 0. 1. 1. 1. 1. 1. 1. 1.\n",
      " 1. 1. 1. 1. 1. 1. 1. 1. 1. 1. 1. 1. 1. 1. 0. 0. 0. 0. 0. 0. 1. 1. 1. 1.\n",
      " 1. 1. 1. 1. 1. 1. 1. 1. 1. 1. 1. 1. 1. 1. 1. 1. 1. 1. 0. 0. 0. 0. 0. 0.\n",
      " 1. 1. 1. 1. 1. 1. 1. 1. 1. 1. 1. 1. 1. 1. 1. 1. 1. 1. 1. 1. 1. 1. 0. 0.\n",
      " 0. 0. 0. 0. 1. 1. 1. 1. 1. 1. 1. 1. 1. 1. 1. 1. 1. 1. 1. 1. 1. 1. 1. 1.\n",
      " 1. 1. 0. 0. 0. 0. 0. 1. 1. 1. 1. 1. 1. 1. 1. 1. 1. 1. 1. 1. 1. 1. 1. 1.\n",
      " 1. 1. 1. 1. 1. 1. 0. 0. 0. 0. 0. 1. 1. 1. 1. 1. 1. 1. 1. 1. 1. 1. 1. 1.\n",
      " 1. 1. 1. 1. 1. 1. 1. 1. 1. 1. 0. 0. 0. 0. 0. 1. 1. 1. 1. 1. 1. 1. 1. 1.\n",
      " 0. 1. 1. 1. 1. 1. 1. 1. 1. 1. 1. 1. 1. 1. 0. 0. 0. 0. 0. 1. 1. 1. 1. 1.\n",
      " 1. 1. 1. 1. 0. 1. 1. 1. 1. 1. 1. 1. 1. 1. 1. 1. 1. 1. 0. 0. 0. 0. 1. 1.\n",
      " 1. 1. 1. 1. 1. 1. 1. 1. 1. 1. 1. 1. 1. 1. 1. 1. 1. 1. 1. 1. 1. 1. 0. 0.\n",
      " 0. 0. 1. 1. 1. 1. 1. 1. 1. 1. 1. 1. 1. 1. 1. 1. 1. 1. 1. 1. 1. 1. 1. 1.\n",
      " 1. 0. 0. 0. 0. 0. 1. 1. 1. 1. 1. 1. 1. 1. 1. 1. 1. 1. 1. 1. 1. 1. 1. 1.\n",
      " 1. 1. 1. 1. 0. 0. 0. 0. 0. 0. 1. 1. 1. 1. 1. 1. 1. 1. 1. 1. 1. 1. 1. 1.\n",
      " 1. 1. 1. 1. 1. 1. 1. 1. 0. 0. 0. 0. 0. 0. 1. 1. 1. 1. 1. 1. 1. 1. 0. 0.\n",
      " 0. 1. 1. 1. 1. 1. 1. 1. 1. 1. 1. 1. 0. 0. 0. 0. 0. 0. 0. 1. 1. 1. 1. 1.\n",
      " 1. 1. 0. 0. 0. 1. 1. 1. 1. 1. 1. 1. 0. 1. 1. 0. 0. 0. 0. 0. 0. 0. 0. 1.\n",
      " 1. 1. 1. 1. 1. 0. 0. 0. 0. 1. 1. 1. 1. 1. 1. 0. 0. 0. 0. 0. 0. 0. 0. 0.\n",
      " 0. 0. 0. 1. 1. 1. 1. 1. 0. 0. 0. 0. 0. 0. 1. 1. 1. 1. 1. 0. 0. 0. 0. 0.\n",
      " 0. 0. 0. 0. 0. 0. 0. 0. 1. 1. 1. 1. 0. 0. 0. 0. 0. 0. 0. 1. 1. 1. 0. 0.\n",
      " 0. 0. 0. 0. 0. 0. 0. 0. 0. 0. 0. 0. 0. 0. 0. 0. 0. 0. 0. 0. 0. 0. 0. 0.\n",
      " 0. 0. 0. 0. 0. 0. 0. 0. 0. 0. 0. 0. 0. 0. 0. 0. 0. 0. 0. 0. 0. 0. 0. 0.\n",
      " 0. 0. 0. 0. 0. 0. 0. 0. 0. 0. 0. 0. 0. 0. 0. 0.], Target: 7\n"
     ]
    }
   ],
   "source": [
    "#check if the tensor worked\n",
    "for feat, targ in train_tensor.take(1):\n",
    "    print('Features: {}, Target: {}'.format(feat, targ))"
   ]
  },
  {
   "cell_type": "code",
   "execution_count": 9,
   "id": "extra-variation",
   "metadata": {},
   "outputs": [],
   "source": [
    "#shuffle and batch\n",
    "train_tensor_shuffle_batch = train_tensor.shuffle(len(train_set)).batch(15)"
   ]
  },
  {
   "cell_type": "markdown",
   "id": "hollow-comparison",
   "metadata": {},
   "source": [
    "Model"
   ]
  },
  {
   "cell_type": "code",
   "execution_count": 10,
   "id": "blank-ticket",
   "metadata": {},
   "outputs": [],
   "source": [
    "def get_model():\n",
    "    model = tf.keras.Sequential([\n",
    "        tf.keras.layers.Dense(100, activation = 'relu'),\n",
    "        tf.keras.layers.Dense(50, activation = 'relu'),\n",
    "        tf.keras.layers.Dense(27) #outputs [0, 27)\n",
    "    ])\n",
    "\n",
    "    model.compile(optimizer='adam',\n",
    "                loss=tf.keras.losses.SparseCategoricalCrossentropy(from_logits=True),\n",
    "                metrics=['sparse_categorical_accuracy'])\n",
    "    \n",
    "    return model"
   ]
  },
  {
   "cell_type": "code",
   "execution_count": 11,
   "id": "supreme-slovakia",
   "metadata": {},
   "outputs": [],
   "source": [
    "letter_model = get_model()"
   ]
  },
  {
   "cell_type": "code",
   "execution_count": 12,
   "id": "polyphonic-headset",
   "metadata": {},
   "outputs": [
    {
     "name": "stdout",
     "output_type": "stream",
     "text": [
      "Epoch 1/10\n",
      "5920/5920 [==============================] - 19s 3ms/step - loss: 0.8689 - sparse_categorical_accuracy: 0.7349\n",
      "Epoch 2/10\n",
      "5920/5920 [==============================] - 20s 3ms/step - loss: 0.5422 - sparse_categorical_accuracy: 0.8280\n",
      "Epoch 3/10\n",
      "5920/5920 [==============================] - 22s 4ms/step - loss: 0.4635 - sparse_categorical_accuracy: 0.8499\n",
      "Epoch 4/10\n",
      "5920/5920 [==============================] - 17s 3ms/step - loss: 0.4213 - sparse_categorical_accuracy: 0.8634\n",
      "Epoch 5/10\n",
      "5920/5920 [==============================] - 18s 3ms/step - loss: 0.3910 - sparse_categorical_accuracy: 0.8715\n",
      "Epoch 6/10\n",
      "5920/5920 [==============================] - 20s 3ms/step - loss: 0.3629 - sparse_categorical_accuracy: 0.8793\n",
      "Epoch 7/10\n",
      "5920/5920 [==============================] - 19s 3ms/step - loss: 0.3468 - sparse_categorical_accuracy: 0.8844\n",
      "Epoch 8/10\n",
      "5920/5920 [==============================] - 23s 3ms/step - loss: 0.3319 - sparse_categorical_accuracy: 0.8879\n",
      "Epoch 9/10\n",
      "5920/5920 [==============================] - ETA: 0s - loss: 0.3166 - sparse_categorical_accuracy: 0.8927- ETA: 0s - loss: 0.3158 - sparse_categorica - 16s 3ms/step - loss: 0.3166 - sparse_categorical_accuracy: 0.8927\n",
      "Epoch 10/10\n",
      "5920/5920 [==============================] - 14s 2ms/step - loss: 0.3049 - sparse_categorical_accuracy: 0.8956\n"
     ]
    },
    {
     "data": {
      "text/plain": [
       "<tensorflow.python.keras.callbacks.History at 0x182236528b0>"
      ]
     },
     "execution_count": 12,
     "metadata": {},
     "output_type": "execute_result"
    }
   ],
   "source": [
    "letter_model.fit(train_tensor_shuffle_batch, epochs = 10)"
   ]
  },
  {
   "cell_type": "markdown",
   "id": "weekly-timer",
   "metadata": {},
   "source": [
    "Save the Model"
   ]
  },
  {
   "cell_type": "code",
   "execution_count": 14,
   "id": "4cc3c925",
   "metadata": {},
   "outputs": [],
   "source": [
    "#convert keras to tf model and export it\n",
    "tfjs.converters.save_keras_model(letter_model, \"../model\")"
   ]
  }
 ],
 "metadata": {
  "kernelspec": {
   "display_name": "Python 3",
   "language": "python",
   "name": "python3"
  },
  "language_info": {
   "codemirror_mode": {
    "name": "ipython",
    "version": 3
   },
   "file_extension": ".py",
   "mimetype": "text/x-python",
   "name": "python",
   "nbconvert_exporter": "python",
   "pygments_lexer": "ipython3",
   "version": "3.9.4"
  }
 },
 "nbformat": 4,
 "nbformat_minor": 5
}
