{
 "cells": [
  {
   "cell_type": "markdown",
   "id": "undefined-woman",
   "metadata": {},
   "source": [
    "# Character Recognition Model"
   ]
  },
  {
   "cell_type": "code",
   "execution_count": 4,
   "id": "exclusive-judge",
   "metadata": {},
   "outputs": [],
   "source": [
    "import tensorflow as tf"
   ]
  },
  {
   "cell_type": "code",
   "execution_count": 5,
   "id": "joined-charter",
   "metadata": {},
   "outputs": [],
   "source": [
    "import pandas as pd"
   ]
  },
  {
   "cell_type": "code",
   "execution_count": 36,
   "id": "floppy-sherman",
   "metadata": {},
   "outputs": [],
   "source": [
    "from tensorflow.keras import layers\n",
    "from tensorflow.keras.layers.experimental import preprocessing"
   ]
  },
  {
   "cell_type": "markdown",
   "id": "plain-gospel",
   "metadata": {},
   "source": [
    "Load in Data"
   ]
  },
  {
   "cell_type": "code",
   "execution_count": 102,
   "id": "polish-lambda",
   "metadata": {},
   "outputs": [],
   "source": [
    "def df_processing(input_set):\n",
    "    features = input_set.copy()\n",
    "    labels = features.pop(features.columns[0])\n",
    "    \n",
    "    #one hot non 0 feature values to 1\n",
    "    #and make them floats\n",
    "    feature_col_names = list(features.columns.values)\n",
    "    features[feature_col_names] = features.where(features[feature_col_names] == 0, 1).astype('float32')\n",
    "    \n",
    "    output_tensor = tf.data.Dataset.from_tensor_slices((features, labels))\n",
    "    \n",
    "    return output_tensor"
   ]
  },
  {
   "cell_type": "code",
   "execution_count": 103,
   "id": "atmospheric-closer",
   "metadata": {},
   "outputs": [],
   "source": [
    "train_set = pd.read_csv('Data/emnist-letters-train.csv')"
   ]
  },
  {
   "cell_type": "code",
   "execution_count": 104,
   "id": "certain-community",
   "metadata": {},
   "outputs": [],
   "source": [
    "train_tensor = df_processing(train_set)"
   ]
  },
  {
   "cell_type": "code",
   "execution_count": 105,
   "id": "foreign-camcorder",
   "metadata": {},
   "outputs": [
    {
     "name": "stdout",
     "output_type": "stream",
     "text": [
      "Features: [0. 0. 0. 0. 0. 0. 0. 0. 0. 0. 0. 0. 0. 0. 0. 0. 0. 0. 0. 0. 0. 0. 0. 0.\n",
      " 0. 0. 0. 0. 0. 0. 0. 0. 0. 0. 0. 0. 0. 0. 0. 0. 0. 0. 0. 0. 0. 0. 0. 0.\n",
      " 0. 0. 0. 0. 0. 0. 0. 0. 0. 0. 0. 0. 0. 0. 0. 0. 0. 0. 0. 0. 0. 1. 1. 1.\n",
      " 1. 1. 1. 1. 1. 1. 1. 0. 0. 0. 0. 0. 0. 0. 0. 0. 0. 0. 0. 0. 0. 0. 0. 0.\n",
      " 1. 1. 1. 1. 1. 1. 1. 1. 1. 1. 1. 0. 0. 0. 0. 0. 0. 0. 0. 0. 0. 0. 0. 0.\n",
      " 0. 1. 1. 1. 1. 1. 1. 1. 1. 1. 1. 1. 1. 1. 1. 1. 0. 0. 0. 0. 0. 0. 0. 0.\n",
      " 0. 0. 0. 0. 1. 1. 1. 1. 1. 1. 1. 1. 1. 1. 1. 1. 1. 1. 1. 1. 0. 0. 0. 0.\n",
      " 0. 0. 0. 0. 0. 0. 0. 1. 1. 1. 1. 1. 1. 1. 1. 1. 1. 1. 1. 1. 1. 1. 1. 1.\n",
      " 0. 0. 0. 0. 0. 0. 0. 0. 0. 1. 1. 1. 1. 1. 1. 1. 1. 1. 1. 1. 1. 1. 1. 1.\n",
      " 1. 1. 1. 1. 1. 0. 0. 0. 0. 0. 0. 0. 0. 1. 1. 1. 1. 1. 1. 1. 1. 1. 1. 1.\n",
      " 1. 1. 1. 1. 1. 1. 1. 1. 1. 0. 0. 0. 0. 0. 0. 0. 0. 1. 1. 1. 1. 1. 1. 1.\n",
      " 1. 1. 1. 1. 1. 1. 1. 1. 1. 1. 1. 1. 1. 1. 0. 0. 0. 0. 0. 0. 1. 1. 1. 1.\n",
      " 1. 1. 1. 1. 1. 1. 1. 1. 1. 1. 1. 1. 1. 1. 1. 1. 1. 1. 0. 0. 0. 0. 0. 0.\n",
      " 1. 1. 1. 1. 1. 1. 1. 1. 1. 1. 1. 1. 1. 1. 1. 1. 1. 1. 1. 1. 1. 1. 0. 0.\n",
      " 0. 0. 0. 0. 1. 1. 1. 1. 1. 1. 1. 1. 1. 1. 1. 1. 1. 1. 1. 1. 1. 1. 1. 1.\n",
      " 1. 1. 0. 0. 0. 0. 0. 1. 1. 1. 1. 1. 1. 1. 1. 1. 1. 1. 1. 1. 1. 1. 1. 1.\n",
      " 1. 1. 1. 1. 1. 1. 0. 0. 0. 0. 0. 1. 1. 1. 1. 1. 1. 1. 1. 1. 1. 1. 1. 1.\n",
      " 1. 1. 1. 1. 1. 1. 1. 1. 1. 1. 0. 0. 0. 0. 0. 1. 1. 1. 1. 1. 1. 1. 1. 1.\n",
      " 0. 1. 1. 1. 1. 1. 1. 1. 1. 1. 1. 1. 1. 1. 0. 0. 0. 0. 0. 1. 1. 1. 1. 1.\n",
      " 1. 1. 1. 1. 0. 1. 1. 1. 1. 1. 1. 1. 1. 1. 1. 1. 1. 1. 0. 0. 0. 0. 1. 1.\n",
      " 1. 1. 1. 1. 1. 1. 1. 1. 1. 1. 1. 1. 1. 1. 1. 1. 1. 1. 1. 1. 1. 1. 0. 0.\n",
      " 0. 0. 1. 1. 1. 1. 1. 1. 1. 1. 1. 1. 1. 1. 1. 1. 1. 1. 1. 1. 1. 1. 1. 1.\n",
      " 1. 0. 0. 0. 0. 0. 1. 1. 1. 1. 1. 1. 1. 1. 1. 1. 1. 1. 1. 1. 1. 1. 1. 1.\n",
      " 1. 1. 1. 1. 0. 0. 0. 0. 0. 0. 1. 1. 1. 1. 1. 1. 1. 1. 1. 1. 1. 1. 1. 1.\n",
      " 1. 1. 1. 1. 1. 1. 1. 1. 0. 0. 0. 0. 0. 0. 1. 1. 1. 1. 1. 1. 1. 1. 0. 0.\n",
      " 0. 1. 1. 1. 1. 1. 1. 1. 1. 1. 1. 1. 0. 0. 0. 0. 0. 0. 0. 1. 1. 1. 1. 1.\n",
      " 1. 1. 0. 0. 0. 1. 1. 1. 1. 1. 1. 1. 0. 1. 1. 0. 0. 0. 0. 0. 0. 0. 0. 1.\n",
      " 1. 1. 1. 1. 1. 0. 0. 0. 0. 1. 1. 1. 1. 1. 1. 0. 0. 0. 0. 0. 0. 0. 0. 0.\n",
      " 0. 0. 0. 1. 1. 1. 1. 1. 0. 0. 0. 0. 0. 0. 1. 1. 1. 1. 1. 0. 0. 0. 0. 0.\n",
      " 0. 0. 0. 0. 0. 0. 0. 0. 1. 1. 1. 1. 0. 0. 0. 0. 0. 0. 0. 1. 1. 1. 0. 0.\n",
      " 0. 0. 0. 0. 0. 0. 0. 0. 0. 0. 0. 0. 0. 0. 0. 0. 0. 0. 0. 0. 0. 0. 0. 0.\n",
      " 0. 0. 0. 0. 0. 0. 0. 0. 0. 0. 0. 0. 0. 0. 0. 0. 0. 0. 0. 0. 0. 0. 0. 0.\n",
      " 0. 0. 0. 0. 0. 0. 0. 0. 0. 0. 0. 0. 0. 0. 0. 0.], Target: 7\n"
     ]
    }
   ],
   "source": [
    "#check if the tensor worked\n",
    "for feat, targ in train_tensor.take(1):\n",
    "    print('Features: {}, Target: {}'.format(feat, targ))"
   ]
  },
  {
   "cell_type": "code",
   "execution_count": 106,
   "id": "extra-variation",
   "metadata": {},
   "outputs": [],
   "source": [
    "#shuffle and batch\n",
    "train_tensor_shuffle_batch = train_tensor.shuffle(len(train_set)).batch(15)"
   ]
  },
  {
   "cell_type": "markdown",
   "id": "hollow-comparison",
   "metadata": {},
   "source": [
    "Model"
   ]
  },
  {
   "cell_type": "code",
   "execution_count": 107,
   "id": "blank-ticket",
   "metadata": {},
   "outputs": [],
   "source": [
    "def get_model():\n",
    "    model = tf.keras.Sequential([\n",
    "        tf.keras.layers.Dense(100, activation = 'relu'),\n",
    "        tf.keras.layers.Dense(50, activation = 'relu'),\n",
    "        tf.keras.layers.Dense(27) #outputs [0, 27)\n",
    "    ])\n",
    "\n",
    "    model.compile(optimizer='adam',\n",
    "                loss=tf.keras.losses.SparseCategoricalCrossentropy(from_logits=True),\n",
    "                metrics=['sparse_categorical_accuracy'])\n",
    "    \n",
    "    return model"
   ]
  },
  {
   "cell_type": "code",
   "execution_count": 108,
   "id": "supreme-slovakia",
   "metadata": {},
   "outputs": [],
   "source": [
    "letter_model = get_model()"
   ]
  },
  {
   "cell_type": "code",
   "execution_count": 109,
   "id": "polyphonic-headset",
   "metadata": {},
   "outputs": [
    {
     "name": "stdout",
     "output_type": "stream",
     "text": [
      "Epoch 1/10\n",
      "5920/5920 [==============================] - 17s 2ms/step - loss: 0.8625 - sparse_categorical_accuracy: 0.7356\n",
      "Epoch 2/10\n",
      "5920/5920 [==============================] - 16s 2ms/step - loss: 0.5404 - sparse_categorical_accuracy: 0.8274\n",
      "Epoch 3/10\n",
      "5920/5920 [==============================] - 11s 2ms/step - loss: 0.4643 - sparse_categorical_accuracy: 0.8507\n",
      "Epoch 4/10\n",
      "5920/5920 [==============================] - 13s 2ms/step - loss: 0.4179 - sparse_categorical_accuracy: 0.8621\n",
      "Epoch 5/10\n",
      "5920/5920 [==============================] - 12s 2ms/step - loss: 0.3890 - sparse_categorical_accuracy: 0.8720\n",
      "Epoch 6/10\n",
      "5920/5920 [==============================] - 12s 2ms/step - loss: 0.3668 - sparse_categorical_accuracy: 0.8790\n",
      "Epoch 7/10\n",
      "5920/5920 [==============================] - 13s 2ms/step - loss: 0.3445 - sparse_categorical_accuracy: 0.8846\n",
      "Epoch 8/10\n",
      "5920/5920 [==============================] - 13s 2ms/step - loss: 0.3285 - sparse_categorical_accuracy: 0.8890\n",
      "Epoch 9/10\n",
      "5920/5920 [==============================] - 11s 2ms/step - loss: 0.3144 - sparse_categorical_accuracy: 0.8931\n",
      "Epoch 10/10\n",
      "5920/5920 [==============================] - 15s 2ms/step - loss: 0.3012 - sparse_categorical_accuracy: 0.8968\n"
     ]
    },
    {
     "data": {
      "text/plain": [
       "<tensorflow.python.keras.callbacks.History at 0x1df806dad60>"
      ]
     },
     "execution_count": 109,
     "metadata": {},
     "output_type": "execute_result"
    }
   ],
   "source": [
    "letter_model.fit(train_tensor_shuffle_batch, epochs = 10)"
   ]
  },
  {
   "cell_type": "markdown",
   "id": "weekly-timer",
   "metadata": {},
   "source": [
    "Save the Model"
   ]
  },
  {
   "cell_type": "code",
   "execution_count": 110,
   "id": "naughty-uncle",
   "metadata": {},
   "outputs": [],
   "source": [
    "#save model as json\n",
    "letter_model_json = letter_model.to_json()\n",
    "with open(\"letter_model.json\", \"w\") as json_file:\n",
    "    json_file.write(letter_model_json)\n",
    "\n",
    "#save weights as h5\n",
    "letter_model.save_weights(\"letter_model.h5\")"
   ]
  }
 ],
 "metadata": {
  "kernelspec": {
   "display_name": "Python 3",
   "language": "python",
   "name": "python3"
  },
  "language_info": {
   "codemirror_mode": {
    "name": "ipython",
    "version": 3
   },
   "file_extension": ".py",
   "mimetype": "text/x-python",
   "name": "python",
   "nbconvert_exporter": "python",
   "pygments_lexer": "ipython3",
   "version": "3.9.4"
  }
 },
 "nbformat": 4,
 "nbformat_minor": 5
}
